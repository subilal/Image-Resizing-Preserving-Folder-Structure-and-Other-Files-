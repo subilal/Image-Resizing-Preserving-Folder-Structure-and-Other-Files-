{
 "cells": [
  {
   "cell_type": "code",
   "execution_count": 8,
   "id": "906f188d",
   "metadata": {},
   "outputs": [],
   "source": [
    "#!/usr/bin/env python3\n",
    "# -*- coding: utf-8 -*-\n",
    "\n",
    "# Image Datatset Resize tool.ipynb\n",
    " \n",
    "'''\n",
    "Title: This script helps in data preprocessing image datasets for a machine learning project. A entire folder of images\n",
    "       can be resized and save to a new location saving all other files without any modification and \n",
    "       preserving folder structure\n",
    " \n",
    " \n",
    "Author: Subilal Purayil\n",
    "credits: \n",
    "Date Created: 01 Mar 2024\n",
    "Date Modified:  01 Mar 2024\n",
    "Version: 1.0 \n",
    "Python Version: 3.9.12 \n",
    "Dependencies: Pillow, os, shutil\n",
    "License: My License\n",
    "copyright:\n",
    " \n",
    "Maintainer:\n",
    " Status:\n",
    " \n",
    "Accelerator: GPU\n",
    "'''\n",
    " \n",
    "''' \n",
    "Description: \n",
    " \n",
    " \n",
    " \n",
    "\n",
    "Data:\n",
    " \n",
    " \n",
    "'''\n",
    "\n",
    "### Import libraries\n",
    " \n",
    "import os\n",
    "import shutil\n",
    "from PIL import Image"
   ]
  },
  {
   "cell_type": "markdown",
   "id": "b9ca9a6f",
   "metadata": {},
   "source": [
    "## Folder definitions: "
   ]
  },
  {
   "cell_type": "code",
   "execution_count": 14,
   "id": "056bb4c0",
   "metadata": {},
   "outputs": [],
   "source": [
    "Input_path = r\"\"\n",
    "Output_path = r\"\""
   ]
  },
  {
   "cell_type": "markdown",
   "id": "419d467d",
   "metadata": {},
   "source": [
    "## Other parameters to set \n",
    "\n",
    "*Resize_ratio* : Expected size of output image\n",
    "                 given in tuple format , (Expected_height, Expected_Width)\n",
    "                 \n",
    "*Copy_All_files* : True, if you want to copy non image files like labels or annotations to destination location.                               False, if you want only resized image in destination location \n",
    "                               "
   ]
  },
  {
   "cell_type": "code",
   "execution_count": 10,
   "id": "6ee2511b",
   "metadata": {},
   "outputs": [],
   "source": [
    "Resize_ratio = (640, 640)\n",
    "Copy_All_files = False"
   ]
  },
  {
   "cell_type": "markdown",
   "id": "01eb1af8",
   "metadata": {},
   "source": [
    "#### Function to copy the folder structure in from input folder to output"
   ]
  },
  {
   "cell_type": "code",
   "execution_count": 11,
   "id": "1eabd49a",
   "metadata": {},
   "outputs": [],
   "source": [
    "def create_folder_paths(parent_path, current_path, destn_path):\n",
    "    folders = current_path.replace(parent_path, \"\")\n",
    "    folders = folders.strip()\n",
    "    set_folders = folders.split('\\\\')\n",
    "    del set_folders[0]\n",
    "    \n",
    "    for i in set_folders:\n",
    "        destn_path = os.path.join(destn_path, i)\n",
    "        \n",
    "        if not os.path.exists(destn_path):\n",
    "                os.mkdir(destn_path)"
   ]
  },
  {
   "cell_type": "code",
   "execution_count": 13,
   "id": "f0ef0ce6",
   "metadata": {},
   "outputs": [],
   "source": [
    "\n",
    "if __name__ == \"__main__\":\n",
    "\n",
    "    for parent_dir, head_dir, files in os.walk(Input_path):\n",
    "\n",
    "        for dir_name in head_dir:\n",
    "\n",
    "            if parent_dir != Input_path:\n",
    "                create_folder_paths(Input_path,parent_dir,Output_path)\n",
    "\n",
    "            folder_create = os.path.join(parent_dir,dir_name)\n",
    "            folder_create = folder_create.replace(Input_path,Output_path)\n",
    "\n",
    "            if not os.path.exists(folder_create):\n",
    "                os.mkdir(folder_create)\n",
    "\n",
    "\n",
    "        for filename in files:\n",
    "            file_name = os.path.join(parent_dir,filename)\n",
    "            save_path = file_name.replace(Input_path,Output_path )\n",
    "            if (file_name.lower().endswith(('.png', '.jpg', '.jpeg', '.tiff', '.bmp', '.gif'))):\n",
    "                image = Image.open(file_name)\n",
    "                new_image = image.resize(Resize_ratio)\n",
    "                new_image.save(save_path)\n",
    "\n",
    "            else:\n",
    "                if Copy_All_files:\n",
    "                    shutil.copy(file_name,save_path)"
   ]
  }
 ],
 "metadata": {
  "kernelspec": {
   "display_name": "Python 3 (ipykernel)",
   "language": "python",
   "name": "python3"
  },
  "language_info": {
   "codemirror_mode": {
    "name": "ipython",
    "version": 3
   },
   "file_extension": ".py",
   "mimetype": "text/x-python",
   "name": "python",
   "nbconvert_exporter": "python",
   "pygments_lexer": "ipython3",
   "version": "3.9.12"
  },
  "varInspector": {
   "cols": {
    "lenName": 16,
    "lenType": 16,
    "lenVar": 40
   },
   "kernels_config": {
    "python": {
     "delete_cmd_postfix": "",
     "delete_cmd_prefix": "del ",
     "library": "var_list.py",
     "varRefreshCmd": "print(var_dic_list())"
    },
    "r": {
     "delete_cmd_postfix": ") ",
     "delete_cmd_prefix": "rm(",
     "library": "var_list.r",
     "varRefreshCmd": "cat(var_dic_list()) "
    }
   },
   "types_to_exclude": [
    "module",
    "function",
    "builtin_function_or_method",
    "instance",
    "_Feature"
   ],
   "window_display": false
  }
 },
 "nbformat": 4,
 "nbformat_minor": 5
}
